{
 "cells": [
  {
   "cell_type": "code",
   "execution_count": 6,
   "id": "13dc63d0",
   "metadata": {},
   "outputs": [
    {
     "name": "stdout",
     "output_type": "stream",
     "text": [
      "5 62 56 88\n",
      "[56, 88, 5, 62]\n"
     ]
    }
   ],
   "source": [
    "def distlist(l):\n",
    "    s=set (l)\n",
    "    newlist=list(s)\n",
    "    return newlist\n",
    "n=list(map(int,input().split()))\n",
    "print(distlist(n))"
   ]
  },
  {
   "cell_type": "code",
   "execution_count": null,
   "id": "3ec2246e",
   "metadata": {},
   "outputs": [],
   "source": []
  },
  {
   "cell_type": "code",
   "execution_count": null,
   "id": "0b13b948",
   "metadata": {},
   "outputs": [],
   "source": []
  }
 ],
 "metadata": {
  "kernelspec": {
   "display_name": "Python 3 (ipykernel)",
   "language": "python",
   "name": "python3"
  },
  "language_info": {
   "codemirror_mode": {
    "name": "ipython",
    "version": 3
   },
   "file_extension": ".py",
   "mimetype": "text/x-python",
   "name": "python",
   "nbconvert_exporter": "python",
   "pygments_lexer": "ipython3",
   "version": "3.10.9"
  }
 },
 "nbformat": 4,
 "nbformat_minor": 5
}
